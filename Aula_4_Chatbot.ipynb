{
  "nbformat": 4,
  "nbformat_minor": 0,
  "metadata": {
    "colab": {
      "provenance": [],
      "authorship_tag": "ABX9TyM59N39Qgs6IMtY1DFkjzt2",
      "include_colab_link": true
    },
    "kernelspec": {
      "name": "python3",
      "display_name": "Python 3"
    },
    "language_info": {
      "name": "python"
    }
  },
  "cells": [
    {
      "cell_type": "markdown",
      "metadata": {
        "id": "view-in-github",
        "colab_type": "text"
      },
      "source": [
        "<a href=\"https://colab.research.google.com/github/PauloNalin/ImersaoAlura/blob/main/Aula_4_Chatbot.ipynb\" target=\"_parent\"><img src=\"https://colab.research.google.com/assets/colab-badge.svg\" alt=\"Open In Colab\"/></a>"
      ]
    },
    {
      "cell_type": "markdown",
      "source": [
        "SDK installation"
      ],
      "metadata": {
        "id": "Aau6y3zQo51S"
      }
    },
    {
      "cell_type": "code",
      "execution_count": 2,
      "metadata": {
        "id": "tOI_m1urmn4T"
      },
      "outputs": [],
      "source": [
        "!pip install -q -U google-generativeai"
      ]
    },
    {
      "cell_type": "code",
      "source": [
        "# Import the Python SDK\n",
        "import google.generativeai as genai\n",
        "from google.colab import userdata\n",
        "api_key = userdata.get ('SECRET_KEY')\n",
        "\n",
        "# Used to securely store your API key\n",
        "# from google.colab import userdata\n",
        "\n",
        "\n",
        "genai.configure(api_key=api_key)"
      ],
      "metadata": {
        "id": "-g_qbOfppPfL"
      },
      "execution_count": 3,
      "outputs": []
    },
    {
      "cell_type": "markdown",
      "source": [
        "List available models"
      ],
      "metadata": {
        "id": "2iEeiTErpgD6"
      }
    },
    {
      "cell_type": "code",
      "source": [
        "for m in genai.list_models():  # CTRL + espaco: lista opcoes de metodos\n",
        "  if 'generateContent' in m.supported_generation_methods:\n",
        "    print (m.name)"
      ],
      "metadata": {
        "colab": {
          "base_uri": "https://localhost:8080/",
          "height": 139
        },
        "id": "JFrE4EZbpkrE",
        "outputId": "627e40d4-1667-4be5-91e0-e0fd4ab9904c"
      },
      "execution_count": 4,
      "outputs": [
        {
          "output_type": "stream",
          "name": "stdout",
          "text": [
            "models/gemini-1.0-pro\n",
            "models/gemini-1.0-pro-001\n",
            "models/gemini-1.0-pro-latest\n",
            "models/gemini-1.0-pro-vision-latest\n",
            "models/gemini-1.5-pro-latest\n",
            "models/gemini-pro\n",
            "models/gemini-pro-vision\n"
          ]
        }
      ]
    },
    {
      "cell_type": "code",
      "source": [
        "gen_config = {\n",
        "    'candidate_count': 1,\n",
        "    'temperature': 0.5 # top_k, top_p\n",
        "}"
      ],
      "metadata": {
        "id": "OCMIUFQsHOh2"
      },
      "execution_count": 5,
      "outputs": []
    },
    {
      "cell_type": "code",
      "source": [
        "safety_settings = {\n",
        "    'Harassment': 'BLOCK_NONE', # BLOCK_FEW, _MOST\n",
        "    'Hate': 'BLOCK_NONE',\n",
        "    'Sexual': 'BLOCK_NONE',\n",
        "    'Dangerous': 'BLOCK_NONE'\n",
        "}"
      ],
      "metadata": {
        "id": "czmD2FCZH0z6"
      },
      "execution_count": 6,
      "outputs": []
    },
    {
      "cell_type": "markdown",
      "source": [
        "Starting Model"
      ],
      "metadata": {
        "id": "ODtSCYOSI6JN"
      }
    },
    {
      "cell_type": "code",
      "source": [
        "model = genai.GenerativeModel(model_name = 'gemini-1.0-pro',\n",
        "                              generation_config=gen_config,\n",
        "                              safety_settings=safety_settings)"
      ],
      "metadata": {
        "id": "MCCz9iUII8LK"
      },
      "execution_count": 7,
      "outputs": []
    },
    {
      "cell_type": "code",
      "source": [
        "response = model.generate_content(\"Vamos aprender conteudo sobre IA. Me de sugestoes\")\n",
        "print(response.text)"
      ],
      "metadata": {
        "colab": {
          "base_uri": "https://localhost:8080/",
          "height": 798
        },
        "id": "Quy89QoAKK1G",
        "outputId": "0f154aa9-6586-4fa9-bb6d-d01669eda390"
      },
      "execution_count": 8,
      "outputs": [
        {
          "output_type": "stream",
          "name": "stdout",
          "text": [
            "**Conceitos Fundamentais de IA:**\n",
            "\n",
            "* Aprendizado de máquina\n",
            "* Aprendizado profundo\n",
            "* Redes neurais\n",
            "* Processamento de linguagem natural\n",
            "* Visão computacional\n",
            "\n",
            "**Aplicações de IA:**\n",
            "\n",
            "* Automação de tarefas\n",
            "* Tomada de decisão aprimorada\n",
            "* Previsão e modelagem\n",
            "* Reconhecimento de padrões\n",
            "* Interação humano-computador\n",
            "\n",
            "**Tipos de IA:**\n",
            "\n",
            "* IA reativa\n",
            "* Memória limitada\n",
            "* Teoria da mente\n",
            "* Autoconsciência\n",
            "\n",
            "**Ética e Implicações Sociais da IA:**\n",
            "\n",
            "* Viés e discriminação\n",
            "* Desemprego e automação\n",
            "* Privacidade e vigilância\n",
            "* Responsabilidade e prestação de contas\n",
            "\n",
            "**Tendências e Avanços em IA:**\n",
            "\n",
            "* Aprendizado por reforço\n",
            "* Aprendizado federado\n",
            "* IA quântica\n",
            "* IA generativa\n",
            "* IA conversacional\n",
            "\n",
            "**Recursos para Aprender sobre IA:**\n",
            "\n",
            "* Cursos online (Coursera, edX, Udemy)\n",
            "* Livros (Inteligência Artificial: Uma Abordagem Moderna, Aprendizado Profundo)\n",
            "* Conferências e workshops (ICML, NeurIPS)\n",
            "* Comunidades online (Reddit, Stack Overflow)\n",
            "* Tutoriais e artigos (MIT OpenCourseWare, Google AI Blog)\n"
          ]
        }
      ]
    },
    {
      "cell_type": "code",
      "source": [
        "chat = model.start_chat (history = [])"
      ],
      "metadata": {
        "id": "7K5d5eEc2HJs"
      },
      "execution_count": 9,
      "outputs": []
    },
    {
      "cell_type": "code",
      "source": [
        "prompt = input ('Esperando o prompt do usuario: ')\n",
        "\n",
        "while prompt  != 'fim':  # criterio de parada\n",
        "  response = chat.send_message (prompt)\n",
        "  print('Resposta: ', response.text, '\\n')\n",
        "  prompt = input ('Esperando o prompt do usuario: ')\n"
      ],
      "metadata": {
        "colab": {
          "base_uri": "https://localhost:8080/",
          "height": 243
        },
        "id": "HdRPSRpy2hAo",
        "outputId": "ff9e7b86-5694-4e81-8a7f-12d0c81d6260"
      },
      "execution_count": 11,
      "outputs": [
        {
          "name": "stdout",
          "output_type": "stream",
          "text": [
            "Esperando o prompt do usuario: qual capital do japao ?\n",
            "Resposta:  Tóquio \n",
            "\n",
            "Esperando o prompt do usuario: qual comida tipica desse país ?\n",
            "Resposta:  Sushi \n",
            "\n",
            "Esperando o prompt do usuario: qual nacionalidade de quem nasce nessa cidade ?\n",
            "Resposta:  Japonesa \n",
            "\n",
            "Esperando o prompt do usuario: qual populacao dessa cidade ?\n",
            "Resposta:  13.960.236 (2023) \n",
            "\n",
            "Esperando o prompt do usuario: fim\n"
          ]
        }
      ]
    },
    {
      "cell_type": "code",
      "source": [
        "chat.history"
      ],
      "metadata": {
        "colab": {
          "base_uri": "https://localhost:8080/"
        },
        "id": "I6Ejtut25M4h",
        "outputId": "68c2c6cb-0f26-4396-dd4f-5d76eac007b5"
      },
      "execution_count": 12,
      "outputs": [
        {
          "output_type": "execute_result",
          "data": {
            "text/plain": [
              "[parts {\n",
              "   text: \"qual capital do japao ?\"\n",
              " }\n",
              " role: \"user\",\n",
              " parts {\n",
              "   text: \"T\\303\\263quio\"\n",
              " }\n",
              " role: \"model\",\n",
              " parts {\n",
              "   text: \"qual comida tipica desse pa\\303\\255s ?\"\n",
              " }\n",
              " role: \"user\",\n",
              " parts {\n",
              "   text: \"Sushi\"\n",
              " }\n",
              " role: \"model\",\n",
              " parts {\n",
              "   text: \"qual nacionalidade de quem nasce nessa cidade ?\"\n",
              " }\n",
              " role: \"user\",\n",
              " parts {\n",
              "   text: \"Japonesa\"\n",
              " }\n",
              " role: \"model\",\n",
              " parts {\n",
              "   text: \"qual populacao dessa cidade ?\"\n",
              " }\n",
              " role: \"user\",\n",
              " parts {\n",
              "   text: \"13.960.236 (2023)\"\n",
              " }\n",
              " role: \"model\"]"
            ]
          },
          "metadata": {},
          "execution_count": 12
        }
      ]
    }
  ]
}